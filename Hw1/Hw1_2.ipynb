{
 "cells": [
  {
   "cell_type": "markdown",
   "metadata": {},
   "source": [
    "#Hw1\n",
    "b06705034 資管三 吳禹辰\n",
    "##Import需要的package及資料集"
   ]
  },
  {
   "cell_type": "code",
   "execution_count": 195,
   "metadata": {
    "scrolled": true
   },
   "outputs": [
    {
     "name": "stdout",
     "output_type": "stream",
     "text": [
      "<class 'numpy.ndarray'>\n",
      "<class 'numpy.ndarray'>\n",
      "<class 'numpy.ndarray'>\n"
     ]
    }
   ],
   "source": [
    "#Importing packages\n",
    "import pandas as pd\n",
    "import numpy as np\n",
    "import math\n",
    "import operator\n",
    "import pickle\n",
    "from sklearn import preprocessing\n",
    "\n",
    "#Importing data\n",
    "\n",
    "with open('msd_data1.pickle', 'rb') as f:\n",
    "    data = pickle.load(f)\n",
    "    \n",
    "dataX = np.array(data['X_train'])\n",
    "dataY = np.array(data['Y_train'])\n",
    "test = np.array(data['X_test'])\n",
    "\n",
    "print(type(dataX))\n",
    "print(type(dataY))\n",
    "print(type(test))"
   ]
  },
  {
   "cell_type": "markdown",
   "metadata": {},
   "source": [
    "##標準化資料"
   ]
  },
  {
   "cell_type": "code",
   "execution_count": 198,
   "metadata": {},
   "outputs": [
    {
     "name": "stdout",
     "output_type": "stream",
     "text": [
      "<class 'numpy.ndarray'>\n",
      "<class 'numpy.ndarray'>\n",
      "(5000, 90)\n",
      "(3000, 90)\n"
     ]
    }
   ],
   "source": [
    "##Standardize\n",
    "from sklearn import preprocessing\n",
    "\n",
    "zscore = preprocessing.StandardScaler()\n",
    "data_zs = zscore.fit_transform(np.vstack((dataX, test)))\n",
    "\n",
    "test_zs = data_zs[5000:8000]\n",
    "\n",
    "data_zs = data_zs[0:5000]\n",
    "\n",
    "print(type(data_zs))\n",
    "print(type(test_zs))\n",
    "print(data_zs.shape)\n",
    "print(test_zs.shape)"
   ]
  },
  {
   "cell_type": "markdown",
   "metadata": {},
   "source": [
    "#Q1.1 Creating myknn_regressor\n",
    "\n",
    "定義myknn_regressor及相關function，包含equal_weight及remove_outlier模式"
   ]
  },
  {
   "cell_type": "code",
   "execution_count": 200,
   "metadata": {},
   "outputs": [
    {
     "name": "stdout",
     "output_type": "stream",
     "text": [
      "2002.2\n"
     ]
    }
   ],
   "source": [
    "#Define\n",
    "def getDist(data1, data2):\n",
    "    \n",
    "    distance = np.square(data1 - data2)\n",
    "    \n",
    "    return np.sqrt(sum(distance))\n",
    "\n",
    "\n",
    "class myknn_regressor():\n",
    "    \n",
    "    def __init__(self, k, mode):\n",
    "        self.k = k\n",
    "        self.mode = mode\n",
    "    \n",
    "    def fit(self, x, y):\n",
    "        self.x = x\n",
    "        self.y = y\n",
    "        \n",
    "    def predict(self, test):\n",
    "        if self.mode == \"equal_weight\":\n",
    "            return my_knn(self.x, self.y, test, k, 0)\n",
    "        else:\n",
    "            return my_knn(self.x, self.y, test, k, 1)\n",
    "    \n",
    "\n",
    "def my_knn(trainingSet, trainingY, testInstance, k, mode):\n",
    "\n",
    "    sort = {}\n",
    "\n",
    "    length = testInstance.shape[0]\n",
    "    \n",
    "    distances = []\n",
    "\n",
    "    for x in range(len(trainingSet)):\n",
    "\n",
    "        dist = getDist(testInstance, trainingSet[x])\n",
    "        \n",
    "        distances.append([x, dist])\n",
    "\n",
    "    sorted_d = sorted(distances, key=operator.itemgetter(1), reverse = True)\n",
    "    \n",
    "    neighbors = np.array(sorted_d[0:k])\n",
    "\n",
    "    response = 0\n",
    "    \n",
    "    if mode == 0:\n",
    "        response = sum(dataY[neighbors[:,0].astype(int)])\n",
    "        result = response / len(neighbors)\n",
    "    else:\n",
    "        ys = dataY[neighbors[:,0].astype(int)]\n",
    "        Q1 = np.quantile(ys, 0.25)\n",
    "        Q3 = np.quantile(ys, 0.75)\n",
    "        IQR = Q3-Q1\n",
    "        \n",
    "        ys = ys[~((ys < (Q1 - 1.5 * IQR)) | (ys > (Q3 + 1.5 * IQR)))]\n",
    "        result = sum(ys) / len(ys)\n",
    "        \n",
    "    return(result)\n",
    "\n",
    "\n",
    "k = 20\n",
    "\n",
    "myknn = myknn_regressor(k, \"equal_weight\")\n",
    "myknn.fit(data_zs, dataY)\n",
    "\n",
    "ypred = myknn.predict(test_zs[2])\n",
    "\n",
    "print(ypred)"
   ]
  },
  {
   "cell_type": "markdown",
   "metadata": {},
   "source": [
    "使用k=20及第2筆資料測試，得到結果年份為2002.2"
   ]
  },
  {
   "cell_type": "markdown",
   "metadata": {},
   "source": [
    "#Q1.2 \n",
    "Load data from msd_data1.pickle. You should standardized all feature values so that all features have a zero mean and a unit variance before training a KNN model. Make predictions using  𝑘=20  and \"equal_weight\"  𝑓 . List the RMSE and the first 20 predictions in the testing data.\n",
    "\n",
    "使用msd_data1中的feature，並以equal_weight模式放入myknn_regressor進行預測"
   ]
  },
  {
   "cell_type": "code",
   "execution_count": 201,
   "metadata": {},
   "outputs": [
    {
     "name": "stdout",
     "output_type": "stream",
     "text": [
      "11.335477125673469\n",
      "[2002.0, 2001.85, 2002.2, 2001.5, 2001.45, 2001.85, 2000.95, 2002.05, 2000.55, 2001.85, 2001.85, 2000.55, 2001.55, 2001.85, 2000.75, 2001.85, 2001.6, 2001.85, 2001.75, 2001.85]\n"
     ]
    }
   ],
   "source": [
    "k = 20\n",
    "n = test.shape[0]\n",
    "\n",
    "myknn = myknn_regressor(k, \"equal_weight\")\n",
    "myknn.fit(data_zs, dataY)\n",
    "predictions = []\n",
    "tot_sum = 0\n",
    "\n",
    "for i in range(n):\n",
    "    pred = myknn.predict(test_zs[i])\n",
    "    if i < 20:\n",
    "        predictions.append(pred)\n",
    "    tot_sum += (pred - data['Y_test'][i]) ** 2\n",
    "\n",
    "rmse = math.sqrt(tot_sum / n)\n",
    "print(rmse)\n",
    "print(predictions)"
   ]
  },
  {
   "cell_type": "markdown",
   "metadata": {},
   "source": [
    "在equal_weight模式下，最後算出的RMSE為11.335477125673469\n",
    "預測出前20筆test資料的年份分別為2002.0, 2001.85, 2002.2, 2001.5, 2001.45, 2001.85, 2000.95, 2002.05, 2000.55, 2001.85, 2001.85, 2000.55, 2001.55, 2001.85, 2000.75, 2001.85, 2001.6, 2001.85, 2001.75, 2001.85"
   ]
  },
  {
   "cell_type": "markdown",
   "metadata": {},
   "source": [
    "#Q1.3\n",
    "Load data from msd_data1.pickle. Standardized all feature values so that all features have a zero mean and unit variance. Make predictions using  𝑘=20  and \"remove_outier\"  𝑓 . List the RMSE and the first 20 predictions in the testing data.\n",
    "使用msd_data1中的feature，並以remove_outliers模式放入myknn_regressor進行預測"
   ]
  },
  {
   "cell_type": "code",
   "execution_count": 202,
   "metadata": {},
   "outputs": [
    {
     "name": "stdout",
     "output_type": "stream",
     "text": [
      "11.424484148125318\n",
      "[2002.0, 2001.85, 2002.2, 2001.5, 2001.45, 2001.85, 2002.0, 2002.05, 2001.578947368421, 2001.85, 2001.85, 2001.578947368421, 2001.55, 2001.85, 2001.7894736842106, 2001.85, 2001.6, 2001.85, 2001.75, 2001.85]\n"
     ]
    }
   ],
   "source": [
    "k = 20\n",
    "n = test.shape[0]\n",
    "\n",
    "myknn = myknn_regressor(k, \"remove_outliers\")\n",
    "myknn.fit(data_zs, dataY)\n",
    "predictions = []\n",
    "tot_sum = 0\n",
    "\n",
    "for i in range(n):\n",
    "    pred = myknn.predict(test_zs[i])\n",
    "    if i < 20:\n",
    "        predictions.append(pred)\n",
    "    tot_sum += (pred - data['Y_test'][i]) ** 2\n",
    "\n",
    "rmse = math.sqrt(tot_sum / n)\n",
    "print(rmse)\n",
    "print(predictions)"
   ]
  },
  {
   "cell_type": "markdown",
   "metadata": {},
   "source": [
    "在remove_outliers模式下，最後算出的RMSE為11.424484148125318\n",
    "預測出前20筆test資料的年份分別為2002.0, 2001.85, 2002.2, 2001.5, 2001.45, 2001.85, 2002.0, 2002.05, 2001.578947368421, 2001.85, 2001.85, 2001.578947368421, 2001.55, 2001.85, 2001.7894736842106, 2001.85, 2001.6, 2001.85, 2001.75, 2001.85"
   ]
  },
  {
   "cell_type": "markdown",
   "metadata": {},
   "source": [
    "#Q2\n",
    "##First case\n",
    "使用sklearn的KNeighborsRegressor及標準化資料進行預測並算出不同K值下的RMSE"
   ]
  },
  {
   "cell_type": "code",
   "execution_count": 203,
   "metadata": {},
   "outputs": [
    {
     "data": {
      "text/plain": [
       "[13.96895367114755,\n",
       " 12.092787106370475,\n",
       " 11.376243928728188,\n",
       " 11.038971683691074,\n",
       " 10.870996274491139,\n",
       " 10.417184360469005,\n",
       " 10.322535792390612,\n",
       " 10.259587873464188,\n",
       " 10.237273230699653,\n",
       " 10.225737282121178,\n",
       " 10.194419815475012,\n",
       " 10.194883857847513,\n",
       " 10.199987105615993,\n",
       " 10.205220174008993,\n",
       " 10.208596366769253,\n",
       " 10.219969862063271,\n",
       " 10.227230909847176,\n",
       " 10.247051366124797,\n",
       " 10.259975237543223,\n",
       " 10.281837520069818,\n",
       " 10.309192252977647,\n",
       " 10.32765350422313,\n",
       " 10.349121530352232]"
      ]
     },
     "execution_count": 203,
     "metadata": {},
     "output_type": "execute_result"
    }
   ],
   "source": [
    "from sklearn.neighbors import KNeighborsRegressor\n",
    "\n",
    "n = test.shape[0]\n",
    "rmses1 = []\n",
    "ks =[1,2,3,4,5,10,15,20,25,30,35,40,45,50,55,60,80,100,120,140,160,180,200]\n",
    "\n",
    "for ki in ks:\n",
    "    knn1 = KNeighborsRegressor(ki)\n",
    "    knn1.fit(data_zs,dataY)\n",
    "    ypred1 = knn1.predict(test_zs)\n",
    "    \n",
    "    tot_sum = 0\n",
    "\n",
    "    for i in range(n):\n",
    "        tot_sum += (ypred1[i] - data['Y_test'][i]) ** 2\n",
    "\n",
    "    rmse = math.sqrt(tot_sum / n)\n",
    "    rmses1.append(rmse)\n",
    "rmses1"
   ]
  },
  {
   "cell_type": "markdown",
   "metadata": {},
   "source": [
    "##Second case\n",
    "使用sklearn的KNeighborsRegressor及未標準化資料進行預測並算出不同K值下的RMSE"
   ]
  },
  {
   "cell_type": "code",
   "execution_count": 164,
   "metadata": {
    "scrolled": true
   },
   "outputs": [
    {
     "data": {
      "text/plain": [
       "[14.923638966418345,\n",
       " 12.777499755429464,\n",
       " 12.075674967716077,\n",
       " 11.767805657810635,\n",
       " 11.466392632384453,\n",
       " 11.077460900404935,\n",
       " 10.88897913794797,\n",
       " 10.797788546734951,\n",
       " 10.790073017979692,\n",
       " 10.750265612567011,\n",
       " 10.717738719772298,\n",
       " 10.714437504678774,\n",
       " 10.698494013475859,\n",
       " 10.69110105960404,\n",
       " 10.68260873412441,\n",
       " 10.672535729098705,\n",
       " 10.662907517124506,\n",
       " 10.677019504524656,\n",
       " 10.68313963899639,\n",
       " 10.687017556442067,\n",
       " 10.691630026202139,\n",
       " 10.69071978380711,\n",
       " 10.69885337470018]"
      ]
     },
     "execution_count": 164,
     "metadata": {},
     "output_type": "execute_result"
    }
   ],
   "source": [
    "rmses2=[]\n",
    "\n",
    "for ki in ks:\n",
    "    knn2 = KNeighborsRegressor(ki)\n",
    "    knn2.fit(dataX,dataY)\n",
    "    ypred2 = knn2.predict(test)\n",
    "    \n",
    "    tot_sum = 0\n",
    "\n",
    "    for i in range(n):\n",
    "        tot_sum += (ypred2[i] - data['Y_test'][i]) ** 2\n",
    "\n",
    "    rmse = math.sqrt(tot_sum / n)\n",
    "    rmses2.append(rmse)\n",
    "rmses2"
   ]
  },
  {
   "cell_type": "markdown",
   "metadata": {},
   "source": [
    "##Third case\n",
    "使用myknn_regressor及標準化資料進行預測並算出不同K值下的RMSE"
   ]
  },
  {
   "cell_type": "code",
   "execution_count": 205,
   "metadata": {
    "scrolled": true
   },
   "outputs": [
    {
     "name": "stdout",
     "output_type": "stream",
     "text": [
      "15.943420795634376\n",
      "11.020189804778017\n",
      "11.017766796641885\n",
      "10.967105171071049\n",
      "11.347771726120865\n",
      "11.034029380505377\n",
      "11.271589798844069\n",
      "11.424484148125318\n",
      "11.49022794220668\n",
      "11.585995770587969\n",
      "11.670226227556821\n",
      "11.772731181287634\n",
      "11.80341410593011\n",
      "11.831738804839167\n",
      "11.74895379838849\n",
      "11.722749214147337\n",
      "11.702702826535534\n",
      "11.79842419494189\n",
      "11.874546581021214\n",
      "11.869112062800736\n",
      "11.819246968853193\n",
      "11.779796926553244\n",
      "11.754590386763553\n"
     ]
    },
    {
     "data": {
      "text/plain": [
       "[15.943420795634376,\n",
       " 11.020189804778017,\n",
       " 11.017766796641885,\n",
       " 10.967105171071049,\n",
       " 11.347771726120865,\n",
       " 11.034029380505377,\n",
       " 11.271589798844069,\n",
       " 11.424484148125318,\n",
       " 11.49022794220668,\n",
       " 11.585995770587969,\n",
       " 11.670226227556821,\n",
       " 11.772731181287634,\n",
       " 11.80341410593011,\n",
       " 11.831738804839167,\n",
       " 11.74895379838849,\n",
       " 11.722749214147337,\n",
       " 11.702702826535534,\n",
       " 11.79842419494189,\n",
       " 11.874546581021214,\n",
       " 11.869112062800736,\n",
       " 11.819246968853193,\n",
       " 11.779796926553244,\n",
       " 11.754590386763553]"
      ]
     },
     "execution_count": 205,
     "metadata": {},
     "output_type": "execute_result"
    }
   ],
   "source": [
    "rmses3 = []\n",
    "\n",
    "ks = [1,2,3,4,5,10,15,20,25,30,35,40,45,50,55,60,80,100,120,140,160,180,200]\n",
    "\n",
    "for ki in ks:\n",
    "    k = ki\n",
    "    \n",
    "    myknn = myknn_regressor(k, \"remove_outliers\")\n",
    "    myknn.fit(data_zs, dataY)\n",
    "    tot_sum = 0\n",
    "\n",
    "    for i in range(n):\n",
    "        pred = myknn.predict(test_zs[i])\n",
    "        tot_sum += (pred - data['Y_test'][i]) ** 2\n",
    "    rmse = math.sqrt(tot_sum / n)\n",
    "    print(rmse)\n",
    "    rmses3.append(rmse)\n",
    "    \n",
    "rmses3"
   ]
  },
  {
   "cell_type": "markdown",
   "metadata": {},
   "source": [
    "畫圖，並分別以紅、藍、綠線表示三個case"
   ]
  },
  {
   "cell_type": "code",
   "execution_count": 206,
   "metadata": {},
   "outputs": [
    {
     "data": {
      "image/png": "[encoded data removed]",
      "text/plain": [
       "<Figure size 432x288 with 1 Axes>"
      ]
     },
     "metadata": {
      "needs_background": "light"
     },
     "output_type": "display_data"
    }
   ],
   "source": [
    "import matplotlib.pyplot as plt\n",
    "\n",
    "x = ks\n",
    "y1 = rmses1\n",
    "y2 = rmses2\n",
    "y3 = rmses3\n",
    "\n",
    "plt.figure()\n",
    "plt.plot(x,y1,label=\"SKlearn w/ standardize\",color=\"red\")\n",
    "plt.plot(x,y2,\"b\",label=\"SKlearn w/o standardize\")\n",
    "plt.plot(x,y3,label=\"MyKNN regressor\", color = \"green\")\n",
    "plt.xlabel(\"K\")\n",
    "plt.ylabel(\"RMSE\")\n",
    "plt.title(\"Error rate of different KNN models\")\n",
    "plt.legend()\n",
    "plt.show()"
   ]
  },
  {
   "cell_type": "markdown",
   "metadata": {},
   "source": [
    "有標準化的資料搭配SKlearn的KNeighbors_regressor表現好於未標準化的KNeighbors_regressor好於myknn_regressor"
   ]
  }
 ],
 "metadata": {
  "kernelspec": {
   "display_name": "Python 3",
   "language": "python",
   "name": "python3"
  },
  "language_info": {
   "codemirror_mode": {
    "name": "ipython",
    "version": 3
   },
   "file_extension": ".py",
   "mimetype": "text/x-python",
   "name": "python",
   "nbconvert_exporter": "python",
   "pygments_lexer": "ipython3",
   "version": "3.7.7"
  }
 },
 "nbformat": 4,
 "nbformat_minor": 4
}
