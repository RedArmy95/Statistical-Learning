{
 "cells": [
  {
   "cell_type": "markdown",
   "metadata": {},
   "source": [
    "#Hw2\n",
    "B06705034 資管三 吳禹辰"
   ]
  },
  {
   "cell_type": "code",
   "execution_count": 1,
   "metadata": {},
   "outputs": [],
   "source": [
    "import pandas as pd\n",
    "import matplotlib.pyplot as plt\n",
    "from sklearn.linear_model import LinearRegression"
   ]
  },
  {
   "cell_type": "code",
   "execution_count": 2,
   "metadata": {},
   "outputs": [],
   "source": [
    "import numpy as np"
   ]
  },
  {
   "cell_type": "code",
   "execution_count": 3,
   "metadata": {},
   "outputs": [],
   "source": [
    "from sklearn.linear_model import Ridge"
   ]
  },
  {
   "cell_type": "code",
   "execution_count": 4,
   "metadata": {},
   "outputs": [],
   "source": [
    "from sklearn.linear_model import Lasso"
   ]
  },
  {
   "cell_type": "code",
   "execution_count": 5,
   "metadata": {},
   "outputs": [],
   "source": [
    "test = pd.read_csv(\"./data/df1_test1.csv\")\n",
    "testy = pd.read_csv(\"./data/df1_test1y.csv\")\n",
    "train = pd.read_csv(\"./data/df1_train.csv\")"
   ]
  },
  {
   "cell_type": "code",
   "execution_count": 6,
   "metadata": {},
   "outputs": [],
   "source": [
    "testy = np.array(testy)"
   ]
  },
  {
   "cell_type": "code",
   "execution_count": 7,
   "metadata": {},
   "outputs": [],
   "source": [
    "trainX = train.iloc[:,1:44]\n",
    "trainY = train.iloc[:,0]"
   ]
  },
  {
   "cell_type": "markdown",
   "metadata": {},
   "source": [
    "##Q1\n",
    "Conduct exploratory analysis on this dataset. You should at least provide summary statistics and visualizations of the key variables. Moreover, you should discuss the characteristics of this dataset. "
   ]
  },
  {
   "cell_type": "code",
   "execution_count": 23,
   "metadata": {},
   "outputs": [
    {
     "data": {
      "text/html": [
       "<div>\n",
       "<style scoped>\n",
       "    .dataframe tbody tr th:only-of-type {\n",
       "        vertical-align: middle;\n",
       "    }\n",
       "\n",
       "    .dataframe tbody tr th {\n",
       "        vertical-align: top;\n",
       "    }\n",
       "\n",
       "    .dataframe thead th {\n",
       "        text-align: right;\n",
       "    }\n",
       "</style>\n",
       "<table border=\"1\" class=\"dataframe\">\n",
       "  <thead>\n",
       "    <tr style=\"text-align: right;\">\n",
       "      <th></th>\n",
       "      <th>life_post_consumer</th>\n",
       "      <th>comp_page_like</th>\n",
       "      <th>Paid</th>\n",
       "      <th>life_post_reach</th>\n",
       "      <th>life_post_impression_liked</th>\n",
       "      <th>life_post_reach_liked</th>\n",
       "      <th>comment</th>\n",
       "      <th>like</th>\n",
       "      <th>share</th>\n",
       "      <th>type_link</th>\n",
       "      <th>...</th>\n",
       "      <th>hour5</th>\n",
       "      <th>hour6</th>\n",
       "      <th>hour7</th>\n",
       "      <th>hour8</th>\n",
       "      <th>hour9</th>\n",
       "      <th>hour10</th>\n",
       "      <th>hour11</th>\n",
       "      <th>hour12</th>\n",
       "      <th>hour13</th>\n",
       "      <th>hour14</th>\n",
       "    </tr>\n",
       "  </thead>\n",
       "  <tbody>\n",
       "    <tr>\n",
       "      <td>0</td>\n",
       "      <td>523</td>\n",
       "      <td>125612</td>\n",
       "      <td>0</td>\n",
       "      <td>2763</td>\n",
       "      <td>3519</td>\n",
       "      <td>2124</td>\n",
       "      <td>0</td>\n",
       "      <td>62</td>\n",
       "      <td>10</td>\n",
       "      <td>0</td>\n",
       "      <td>...</td>\n",
       "      <td>0</td>\n",
       "      <td>0</td>\n",
       "      <td>0</td>\n",
       "      <td>0</td>\n",
       "      <td>0</td>\n",
       "      <td>0</td>\n",
       "      <td>0</td>\n",
       "      <td>0</td>\n",
       "      <td>0</td>\n",
       "      <td>0</td>\n",
       "    </tr>\n",
       "    <tr>\n",
       "      <td>1</td>\n",
       "      <td>408</td>\n",
       "      <td>135700</td>\n",
       "      <td>0</td>\n",
       "      <td>3756</td>\n",
       "      <td>4935</td>\n",
       "      <td>2556</td>\n",
       "      <td>16</td>\n",
       "      <td>117</td>\n",
       "      <td>30</td>\n",
       "      <td>0</td>\n",
       "      <td>...</td>\n",
       "      <td>0</td>\n",
       "      <td>0</td>\n",
       "      <td>0</td>\n",
       "      <td>0</td>\n",
       "      <td>0</td>\n",
       "      <td>0</td>\n",
       "      <td>1</td>\n",
       "      <td>0</td>\n",
       "      <td>0</td>\n",
       "      <td>0</td>\n",
       "    </tr>\n",
       "    <tr>\n",
       "      <td>2</td>\n",
       "      <td>37</td>\n",
       "      <td>137020</td>\n",
       "      <td>1</td>\n",
       "      <td>1357</td>\n",
       "      <td>2154</td>\n",
       "      <td>1120</td>\n",
       "      <td>0</td>\n",
       "      <td>0</td>\n",
       "      <td>0</td>\n",
       "      <td>0</td>\n",
       "      <td>...</td>\n",
       "      <td>0</td>\n",
       "      <td>0</td>\n",
       "      <td>0</td>\n",
       "      <td>0</td>\n",
       "      <td>1</td>\n",
       "      <td>0</td>\n",
       "      <td>0</td>\n",
       "      <td>0</td>\n",
       "      <td>0</td>\n",
       "      <td>0</td>\n",
       "    </tr>\n",
       "    <tr>\n",
       "      <td>3</td>\n",
       "      <td>808</td>\n",
       "      <td>137893</td>\n",
       "      <td>1</td>\n",
       "      <td>37376</td>\n",
       "      <td>22100</td>\n",
       "      <td>10880</td>\n",
       "      <td>20</td>\n",
       "      <td>411</td>\n",
       "      <td>74</td>\n",
       "      <td>0</td>\n",
       "      <td>...</td>\n",
       "      <td>0</td>\n",
       "      <td>0</td>\n",
       "      <td>0</td>\n",
       "      <td>0</td>\n",
       "      <td>0</td>\n",
       "      <td>0</td>\n",
       "      <td>0</td>\n",
       "      <td>0</td>\n",
       "      <td>0</td>\n",
       "      <td>0</td>\n",
       "    </tr>\n",
       "    <tr>\n",
       "      <td>4</td>\n",
       "      <td>359</td>\n",
       "      <td>133594</td>\n",
       "      <td>0</td>\n",
       "      <td>1809</td>\n",
       "      <td>2541</td>\n",
       "      <td>1435</td>\n",
       "      <td>2</td>\n",
       "      <td>64</td>\n",
       "      <td>7</td>\n",
       "      <td>0</td>\n",
       "      <td>...</td>\n",
       "      <td>0</td>\n",
       "      <td>0</td>\n",
       "      <td>0</td>\n",
       "      <td>1</td>\n",
       "      <td>0</td>\n",
       "      <td>0</td>\n",
       "      <td>0</td>\n",
       "      <td>0</td>\n",
       "      <td>0</td>\n",
       "      <td>0</td>\n",
       "    </tr>\n",
       "    <tr>\n",
       "      <td>...</td>\n",
       "      <td>...</td>\n",
       "      <td>...</td>\n",
       "      <td>...</td>\n",
       "      <td>...</td>\n",
       "      <td>...</td>\n",
       "      <td>...</td>\n",
       "      <td>...</td>\n",
       "      <td>...</td>\n",
       "      <td>...</td>\n",
       "      <td>...</td>\n",
       "      <td>...</td>\n",
       "      <td>...</td>\n",
       "      <td>...</td>\n",
       "      <td>...</td>\n",
       "      <td>...</td>\n",
       "      <td>...</td>\n",
       "      <td>...</td>\n",
       "      <td>...</td>\n",
       "      <td>...</td>\n",
       "      <td>...</td>\n",
       "      <td>...</td>\n",
       "    </tr>\n",
       "    <tr>\n",
       "      <td>395</td>\n",
       "      <td>453</td>\n",
       "      <td>107907</td>\n",
       "      <td>0</td>\n",
       "      <td>4390</td>\n",
       "      <td>4607</td>\n",
       "      <td>2862</td>\n",
       "      <td>1</td>\n",
       "      <td>63</td>\n",
       "      <td>26</td>\n",
       "      <td>0</td>\n",
       "      <td>...</td>\n",
       "      <td>0</td>\n",
       "      <td>0</td>\n",
       "      <td>0</td>\n",
       "      <td>0</td>\n",
       "      <td>0</td>\n",
       "      <td>1</td>\n",
       "      <td>0</td>\n",
       "      <td>0</td>\n",
       "      <td>0</td>\n",
       "      <td>0</td>\n",
       "    </tr>\n",
       "    <tr>\n",
       "      <td>396</td>\n",
       "      <td>1038</td>\n",
       "      <td>126141</td>\n",
       "      <td>0</td>\n",
       "      <td>20896</td>\n",
       "      <td>19738</td>\n",
       "      <td>13656</td>\n",
       "      <td>103</td>\n",
       "      <td>469</td>\n",
       "      <td>33</td>\n",
       "      <td>0</td>\n",
       "      <td>...</td>\n",
       "      <td>0</td>\n",
       "      <td>0</td>\n",
       "      <td>0</td>\n",
       "      <td>0</td>\n",
       "      <td>0</td>\n",
       "      <td>0</td>\n",
       "      <td>0</td>\n",
       "      <td>1</td>\n",
       "      <td>0</td>\n",
       "      <td>0</td>\n",
       "    </tr>\n",
       "    <tr>\n",
       "      <td>397</td>\n",
       "      <td>3682</td>\n",
       "      <td>126424</td>\n",
       "      <td>0</td>\n",
       "      <td>18320</td>\n",
       "      <td>25584</td>\n",
       "      <td>14920</td>\n",
       "      <td>36</td>\n",
       "      <td>98</td>\n",
       "      <td>14</td>\n",
       "      <td>0</td>\n",
       "      <td>...</td>\n",
       "      <td>0</td>\n",
       "      <td>0</td>\n",
       "      <td>0</td>\n",
       "      <td>0</td>\n",
       "      <td>0</td>\n",
       "      <td>0</td>\n",
       "      <td>0</td>\n",
       "      <td>0</td>\n",
       "      <td>1</td>\n",
       "      <td>0</td>\n",
       "    </tr>\n",
       "    <tr>\n",
       "      <td>398</td>\n",
       "      <td>1330</td>\n",
       "      <td>129600</td>\n",
       "      <td>1</td>\n",
       "      <td>40336</td>\n",
       "      <td>27771</td>\n",
       "      <td>14848</td>\n",
       "      <td>4</td>\n",
       "      <td>104</td>\n",
       "      <td>10</td>\n",
       "      <td>0</td>\n",
       "      <td>...</td>\n",
       "      <td>0</td>\n",
       "      <td>0</td>\n",
       "      <td>0</td>\n",
       "      <td>0</td>\n",
       "      <td>0</td>\n",
       "      <td>0</td>\n",
       "      <td>0</td>\n",
       "      <td>0</td>\n",
       "      <td>1</td>\n",
       "      <td>0</td>\n",
       "    </tr>\n",
       "    <tr>\n",
       "      <td>399</td>\n",
       "      <td>356</td>\n",
       "      <td>117764</td>\n",
       "      <td>0</td>\n",
       "      <td>3144</td>\n",
       "      <td>3586</td>\n",
       "      <td>2148</td>\n",
       "      <td>1</td>\n",
       "      <td>58</td>\n",
       "      <td>13</td>\n",
       "      <td>0</td>\n",
       "      <td>...</td>\n",
       "      <td>0</td>\n",
       "      <td>0</td>\n",
       "      <td>0</td>\n",
       "      <td>0</td>\n",
       "      <td>0</td>\n",
       "      <td>0</td>\n",
       "      <td>0</td>\n",
       "      <td>0</td>\n",
       "      <td>1</td>\n",
       "      <td>0</td>\n",
       "    </tr>\n",
       "  </tbody>\n",
       "</table>\n",
       "<p>400 rows × 44 columns</p>\n",
       "</div>"
      ],
      "text/plain": [
       "     life_post_consumer  comp_page_like  Paid  life_post_reach  \\\n",
       "0                   523          125612     0             2763   \n",
       "1                   408          135700     0             3756   \n",
       "2                    37          137020     1             1357   \n",
       "3                   808          137893     1            37376   \n",
       "4                   359          133594     0             1809   \n",
       "..                  ...             ...   ...              ...   \n",
       "395                 453          107907     0             4390   \n",
       "396                1038          126141     0            20896   \n",
       "397                3682          126424     0            18320   \n",
       "398                1330          129600     1            40336   \n",
       "399                 356          117764     0             3144   \n",
       "\n",
       "     life_post_impression_liked  life_post_reach_liked  comment  like  share  \\\n",
       "0                          3519                   2124        0    62     10   \n",
       "1                          4935                   2556       16   117     30   \n",
       "2                          2154                   1120        0     0      0   \n",
       "3                         22100                  10880       20   411     74   \n",
       "4                          2541                   1435        2    64      7   \n",
       "..                          ...                    ...      ...   ...    ...   \n",
       "395                        4607                   2862        1    63     26   \n",
       "396                       19738                  13656      103   469     33   \n",
       "397                       25584                  14920       36    98     14   \n",
       "398                       27771                  14848        4   104     10   \n",
       "399                        3586                   2148        1    58     13   \n",
       "\n",
       "     type_link  ...  hour5  hour6  hour7  hour8  hour9  hour10  hour11  \\\n",
       "0            0  ...      0      0      0      0      0       0       0   \n",
       "1            0  ...      0      0      0      0      0       0       1   \n",
       "2            0  ...      0      0      0      0      1       0       0   \n",
       "3            0  ...      0      0      0      0      0       0       0   \n",
       "4            0  ...      0      0      0      1      0       0       0   \n",
       "..         ...  ...    ...    ...    ...    ...    ...     ...     ...   \n",
       "395          0  ...      0      0      0      0      0       1       0   \n",
       "396          0  ...      0      0      0      0      0       0       0   \n",
       "397          0  ...      0      0      0      0      0       0       0   \n",
       "398          0  ...      0      0      0      0      0       0       0   \n",
       "399          0  ...      0      0      0      0      0       0       0   \n",
       "\n",
       "     hour12  hour13  hour14  \n",
       "0         0       0       0  \n",
       "1         0       0       0  \n",
       "2         0       0       0  \n",
       "3         0       0       0  \n",
       "4         0       0       0  \n",
       "..      ...     ...     ...  \n",
       "395       0       0       0  \n",
       "396       1       0       0  \n",
       "397       0       1       0  \n",
       "398       0       1       0  \n",
       "399       0       1       0  \n",
       "\n",
       "[400 rows x 44 columns]"
      ]
     },
     "execution_count": 23,
     "metadata": {},
     "output_type": "execute_result"
    }
   ],
   "source": [
    "train"
   ]
  },
  {
   "cell_type": "code",
   "execution_count": 29,
   "metadata": {},
   "outputs": [
    {
     "data": {
      "text/html": [
       "<div>\n",
       "<style scoped>\n",
       "    .dataframe tbody tr th:only-of-type {\n",
       "        vertical-align: middle;\n",
       "    }\n",
       "\n",
       "    .dataframe tbody tr th {\n",
       "        vertical-align: top;\n",
       "    }\n",
       "\n",
       "    .dataframe thead th {\n",
       "        text-align: right;\n",
       "    }\n",
       "</style>\n",
       "<table border=\"1\" class=\"dataframe\">\n",
       "  <thead>\n",
       "    <tr style=\"text-align: right;\">\n",
       "      <th></th>\n",
       "      <th>life_post_consumer</th>\n",
       "      <th>comp_page_like</th>\n",
       "      <th>Paid</th>\n",
       "      <th>life_post_reach</th>\n",
       "      <th>life_post_impression_liked</th>\n",
       "      <th>life_post_reach_liked</th>\n",
       "      <th>comment</th>\n",
       "      <th>like</th>\n",
       "      <th>share</th>\n",
       "      <th>type_link</th>\n",
       "      <th>...</th>\n",
       "      <th>hour5</th>\n",
       "      <th>hour6</th>\n",
       "      <th>hour7</th>\n",
       "      <th>hour8</th>\n",
       "      <th>hour9</th>\n",
       "      <th>hour10</th>\n",
       "      <th>hour11</th>\n",
       "      <th>hour12</th>\n",
       "      <th>hour13</th>\n",
       "      <th>hour14</th>\n",
       "    </tr>\n",
       "  </thead>\n",
       "  <tbody>\n",
       "    <tr>\n",
       "      <td>count</td>\n",
       "      <td>400.000000</td>\n",
       "      <td>400.000000</td>\n",
       "      <td>400.000000</td>\n",
       "      <td>400.000000</td>\n",
       "      <td>4.000000e+02</td>\n",
       "      <td>400.000000</td>\n",
       "      <td>400.000000</td>\n",
       "      <td>400.00000</td>\n",
       "      <td>400.000000</td>\n",
       "      <td>400.000000</td>\n",
       "      <td>...</td>\n",
       "      <td>400.000000</td>\n",
       "      <td>400.000000</td>\n",
       "      <td>400.000000</td>\n",
       "      <td>400.000000</td>\n",
       "      <td>400.000000</td>\n",
       "      <td>400.000000</td>\n",
       "      <td>400.000000</td>\n",
       "      <td>400.000000</td>\n",
       "      <td>400.000000</td>\n",
       "      <td>400.00000</td>\n",
       "    </tr>\n",
       "    <tr>\n",
       "      <td>mean</td>\n",
       "      <td>810.340000</td>\n",
       "      <td>122890.625000</td>\n",
       "      <td>0.260000</td>\n",
       "      <td>13436.855000</td>\n",
       "      <td>1.747735e+04</td>\n",
       "      <td>6585.952500</td>\n",
       "      <td>6.855000</td>\n",
       "      <td>169.07250</td>\n",
       "      <td>25.485000</td>\n",
       "      <td>0.037500</td>\n",
       "      <td>...</td>\n",
       "      <td>0.022500</td>\n",
       "      <td>0.030000</td>\n",
       "      <td>0.032500</td>\n",
       "      <td>0.022500</td>\n",
       "      <td>0.062500</td>\n",
       "      <td>0.150000</td>\n",
       "      <td>0.092500</td>\n",
       "      <td>0.055000</td>\n",
       "      <td>0.102500</td>\n",
       "      <td>0.02500</td>\n",
       "    </tr>\n",
       "    <tr>\n",
       "      <td>std</td>\n",
       "      <td>899.037251</td>\n",
       "      <td>16280.121461</td>\n",
       "      <td>0.439184</td>\n",
       "      <td>20454.614675</td>\n",
       "      <td>6.614514e+04</td>\n",
       "      <td>7599.228501</td>\n",
       "      <td>14.402519</td>\n",
       "      <td>243.14837</td>\n",
       "      <td>25.946248</td>\n",
       "      <td>0.190221</td>\n",
       "      <td>...</td>\n",
       "      <td>0.148489</td>\n",
       "      <td>0.170801</td>\n",
       "      <td>0.177546</td>\n",
       "      <td>0.148489</td>\n",
       "      <td>0.242365</td>\n",
       "      <td>0.357519</td>\n",
       "      <td>0.290093</td>\n",
       "      <td>0.228266</td>\n",
       "      <td>0.303685</td>\n",
       "      <td>0.15632</td>\n",
       "    </tr>\n",
       "    <tr>\n",
       "      <td>min</td>\n",
       "      <td>17.000000</td>\n",
       "      <td>81370.000000</td>\n",
       "      <td>0.000000</td>\n",
       "      <td>238.000000</td>\n",
       "      <td>5.670000e+02</td>\n",
       "      <td>236.000000</td>\n",
       "      <td>0.000000</td>\n",
       "      <td>0.00000</td>\n",
       "      <td>0.000000</td>\n",
       "      <td>0.000000</td>\n",
       "      <td>...</td>\n",
       "      <td>0.000000</td>\n",
       "      <td>0.000000</td>\n",
       "      <td>0.000000</td>\n",
       "      <td>0.000000</td>\n",
       "      <td>0.000000</td>\n",
       "      <td>0.000000</td>\n",
       "      <td>0.000000</td>\n",
       "      <td>0.000000</td>\n",
       "      <td>0.000000</td>\n",
       "      <td>0.00000</td>\n",
       "    </tr>\n",
       "    <tr>\n",
       "      <td>25%</td>\n",
       "      <td>335.000000</td>\n",
       "      <td>112676.000000</td>\n",
       "      <td>0.000000</td>\n",
       "      <td>3282.500000</td>\n",
       "      <td>3.962500e+03</td>\n",
       "      <td>2171.000000</td>\n",
       "      <td>1.000000</td>\n",
       "      <td>55.75000</td>\n",
       "      <td>10.000000</td>\n",
       "      <td>0.000000</td>\n",
       "      <td>...</td>\n",
       "      <td>0.000000</td>\n",
       "      <td>0.000000</td>\n",
       "      <td>0.000000</td>\n",
       "      <td>0.000000</td>\n",
       "      <td>0.000000</td>\n",
       "      <td>0.000000</td>\n",
       "      <td>0.000000</td>\n",
       "      <td>0.000000</td>\n",
       "      <td>0.000000</td>\n",
       "      <td>0.00000</td>\n",
       "    </tr>\n",
       "    <tr>\n",
       "      <td>50%</td>\n",
       "      <td>554.500000</td>\n",
       "      <td>128816.000000</td>\n",
       "      <td>0.000000</td>\n",
       "      <td>5150.000000</td>\n",
       "      <td>6.214500e+03</td>\n",
       "      <td>3391.000000</td>\n",
       "      <td>3.000000</td>\n",
       "      <td>98.00000</td>\n",
       "      <td>18.500000</td>\n",
       "      <td>0.000000</td>\n",
       "      <td>...</td>\n",
       "      <td>0.000000</td>\n",
       "      <td>0.000000</td>\n",
       "      <td>0.000000</td>\n",
       "      <td>0.000000</td>\n",
       "      <td>0.000000</td>\n",
       "      <td>0.000000</td>\n",
       "      <td>0.000000</td>\n",
       "      <td>0.000000</td>\n",
       "      <td>0.000000</td>\n",
       "      <td>0.00000</td>\n",
       "    </tr>\n",
       "    <tr>\n",
       "      <td>75%</td>\n",
       "      <td>955.500000</td>\n",
       "      <td>136393.000000</td>\n",
       "      <td>1.000000</td>\n",
       "      <td>13232.000000</td>\n",
       "      <td>1.510450e+04</td>\n",
       "      <td>8011.000000</td>\n",
       "      <td>7.000000</td>\n",
       "      <td>187.25000</td>\n",
       "      <td>32.000000</td>\n",
       "      <td>0.000000</td>\n",
       "      <td>...</td>\n",
       "      <td>0.000000</td>\n",
       "      <td>0.000000</td>\n",
       "      <td>0.000000</td>\n",
       "      <td>0.000000</td>\n",
       "      <td>0.000000</td>\n",
       "      <td>0.000000</td>\n",
       "      <td>0.000000</td>\n",
       "      <td>0.000000</td>\n",
       "      <td>0.000000</td>\n",
       "      <td>0.00000</td>\n",
       "    </tr>\n",
       "    <tr>\n",
       "      <td>max</td>\n",
       "      <td>11328.000000</td>\n",
       "      <td>139441.000000</td>\n",
       "      <td>1.000000</td>\n",
       "      <td>139008.000000</td>\n",
       "      <td>1.107833e+06</td>\n",
       "      <td>48368.000000</td>\n",
       "      <td>146.000000</td>\n",
       "      <td>1998.00000</td>\n",
       "      <td>208.000000</td>\n",
       "      <td>1.000000</td>\n",
       "      <td>...</td>\n",
       "      <td>1.000000</td>\n",
       "      <td>1.000000</td>\n",
       "      <td>1.000000</td>\n",
       "      <td>1.000000</td>\n",
       "      <td>1.000000</td>\n",
       "      <td>1.000000</td>\n",
       "      <td>1.000000</td>\n",
       "      <td>1.000000</td>\n",
       "      <td>1.000000</td>\n",
       "      <td>1.00000</td>\n",
       "    </tr>\n",
       "  </tbody>\n",
       "</table>\n",
       "<p>8 rows × 44 columns</p>\n",
       "</div>"
      ],
      "text/plain": [
       "       life_post_consumer  comp_page_like        Paid  life_post_reach  \\\n",
       "count          400.000000      400.000000  400.000000       400.000000   \n",
       "mean           810.340000   122890.625000    0.260000     13436.855000   \n",
       "std            899.037251    16280.121461    0.439184     20454.614675   \n",
       "min             17.000000    81370.000000    0.000000       238.000000   \n",
       "25%            335.000000   112676.000000    0.000000      3282.500000   \n",
       "50%            554.500000   128816.000000    0.000000      5150.000000   \n",
       "75%            955.500000   136393.000000    1.000000     13232.000000   \n",
       "max          11328.000000   139441.000000    1.000000    139008.000000   \n",
       "\n",
       "       life_post_impression_liked  life_post_reach_liked     comment  \\\n",
       "count                4.000000e+02             400.000000  400.000000   \n",
       "mean                 1.747735e+04            6585.952500    6.855000   \n",
       "std                  6.614514e+04            7599.228501   14.402519   \n",
       "min                  5.670000e+02             236.000000    0.000000   \n",
       "25%                  3.962500e+03            2171.000000    1.000000   \n",
       "50%                  6.214500e+03            3391.000000    3.000000   \n",
       "75%                  1.510450e+04            8011.000000    7.000000   \n",
       "max                  1.107833e+06           48368.000000  146.000000   \n",
       "\n",
       "             like       share   type_link  ...       hour5       hour6  \\\n",
       "count   400.00000  400.000000  400.000000  ...  400.000000  400.000000   \n",
       "mean    169.07250   25.485000    0.037500  ...    0.022500    0.030000   \n",
       "std     243.14837   25.946248    0.190221  ...    0.148489    0.170801   \n",
       "min       0.00000    0.000000    0.000000  ...    0.000000    0.000000   \n",
       "25%      55.75000   10.000000    0.000000  ...    0.000000    0.000000   \n",
       "50%      98.00000   18.500000    0.000000  ...    0.000000    0.000000   \n",
       "75%     187.25000   32.000000    0.000000  ...    0.000000    0.000000   \n",
       "max    1998.00000  208.000000    1.000000  ...    1.000000    1.000000   \n",
       "\n",
       "            hour7       hour8       hour9      hour10      hour11      hour12  \\\n",
       "count  400.000000  400.000000  400.000000  400.000000  400.000000  400.000000   \n",
       "mean     0.032500    0.022500    0.062500    0.150000    0.092500    0.055000   \n",
       "std      0.177546    0.148489    0.242365    0.357519    0.290093    0.228266   \n",
       "min      0.000000    0.000000    0.000000    0.000000    0.000000    0.000000   \n",
       "25%      0.000000    0.000000    0.000000    0.000000    0.000000    0.000000   \n",
       "50%      0.000000    0.000000    0.000000    0.000000    0.000000    0.000000   \n",
       "75%      0.000000    0.000000    0.000000    0.000000    0.000000    0.000000   \n",
       "max      1.000000    1.000000    1.000000    1.000000    1.000000    1.000000   \n",
       "\n",
       "           hour13     hour14  \n",
       "count  400.000000  400.00000  \n",
       "mean     0.102500    0.02500  \n",
       "std      0.303685    0.15632  \n",
       "min      0.000000    0.00000  \n",
       "25%      0.000000    0.00000  \n",
       "50%      0.000000    0.00000  \n",
       "75%      0.000000    0.00000  \n",
       "max      1.000000    1.00000  \n",
       "\n",
       "[8 rows x 44 columns]"
      ]
     },
     "execution_count": 29,
     "metadata": {},
     "output_type": "execute_result"
    }
   ],
   "source": [
    "train.describe()"
   ]
  },
  {
   "cell_type": "markdown",
   "metadata": {},
   "source": [
    "從指標上來看training set，我們要預測的變數life_post_consumer變異相當大，標準差大於平均數。   \n",
    "其他變數的標準差也幾乎都大於平均數，顯示這份data變異很大。   \n",
    "此外，除了comp_page_like外，許多變數的平均數都大於中位數許多，顯示其為右尾分佈"
   ]
  },
  {
   "cell_type": "code",
   "execution_count": 56,
   "metadata": {},
   "outputs": [
    {
     "data": {
      "text/plain": [
       "<matplotlib.axes._subplots.AxesSubplot at 0x11fa1a810>"
      ]
     },
     "execution_count": 56,
     "metadata": {},
     "output_type": "execute_result"
    },
    {
     "data": {
      "image/png": "[encoded data removed]",
      "text/plain": [
       "<Figure size 432x288 with 1 Axes>"
      ]
     },
     "metadata": {
      "needs_background": "light"
     },
     "output_type": "display_data"
    }
   ],
   "source": [
    "train.iloc[:,0:2].plot.box()"
   ]
  },
  {
   "cell_type": "code",
   "execution_count": 71,
   "metadata": {},
   "outputs": [
    {
     "data": {
      "text/plain": [
       "<matplotlib.axes._subplots.AxesSubplot at 0x120784950>"
      ]
     },
     "execution_count": 71,
     "metadata": {},
     "output_type": "execute_result"
    },
    {
     "data": {
      "image/png": "[encoded data removed]",
      "text/plain": [
       "<Figure size 432x288 with 1 Axes>"
      ]
     },
     "metadata": {
      "needs_background": "light"
     },
     "output_type": "display_data"
    }
   ],
   "source": [
    "train.iloc[:,4:6].plot.box()"
   ]
  },
  {
   "cell_type": "code",
   "execution_count": 67,
   "metadata": {},
   "outputs": [
    {
     "data": {
      "text/plain": [
       "<matplotlib.axes._subplots.AxesSubplot at 0x12046e690>"
      ]
     },
     "execution_count": 67,
     "metadata": {},
     "output_type": "execute_result"
    },
    {
     "data": {
      "image/png": "[encoded data removed]",
      "text/plain": [
       "<Figure size 432x288 with 1 Axes>"
      ]
     },
     "metadata": {
      "needs_background": "light"
     },
     "output_type": "display_data"
    }
   ],
   "source": [
    "train.iloc[:,7:9].plot.box()"
   ]
  },
  {
   "cell_type": "markdown",
   "metadata": {},
   "source": [
    "從Box plot來看，除了comp_page_like外，其他的非binary變數都有相當多的outlier "
   ]
  },
  {
   "cell_type": "code",
   "execution_count": 76,
   "metadata": {},
   "outputs": [
    {
     "data": {
      "text/plain": [
       "<matplotlib.axes._subplots.AxesSubplot at 0x120cd9590>"
      ]
     },
     "execution_count": 76,
     "metadata": {},
     "output_type": "execute_result"
    },
    {
     "data": {
      "image/png": "[encoded data removed]",
      "text/plain": [
       "<Figure size 432x288 with 1 Axes>"
      ]
     },
     "metadata": {
      "needs_background": "light"
     },
     "output_type": "display_data"
    }
   ],
   "source": [
    "train.iloc[:,0].plot.hist()"
   ]
  },
  {
   "cell_type": "code",
   "execution_count": 77,
   "metadata": {},
   "outputs": [
    {
     "data": {
      "text/plain": [
       "<matplotlib.axes._subplots.AxesSubplot at 0x120b41ad0>"
      ]
     },
     "execution_count": 77,
     "metadata": {},
     "output_type": "execute_result"
    },
    {
     "data": {
      "image/png": "[encoded data removed]",
      "text/plain": [
       "<Figure size 432x288 with 1 Axes>"
      ]
     },
     "metadata": {
      "needs_background": "light"
     },
     "output_type": "display_data"
    }
   ],
   "source": [
    "train.iloc[:,1].plot.hist()"
   ]
  },
  {
   "cell_type": "code",
   "execution_count": 79,
   "metadata": {},
   "outputs": [
    {
     "data": {
      "text/plain": [
       "<matplotlib.axes._subplots.AxesSubplot at 0x120fff750>"
      ]
     },
     "execution_count": 79,
     "metadata": {},
     "output_type": "execute_result"
    },
    {
     "data": {
      "image/png": "[encoded data removed]",
      "text/plain": [
       "<Figure size 432x288 with 1 Axes>"
      ]
     },
     "metadata": {
      "needs_background": "light"
     },
     "output_type": "display_data"
    }
   ],
   "source": [
    "train.iloc[:,5].plot.hist()"
   ]
  },
  {
   "cell_type": "markdown",
   "metadata": {},
   "source": [
    "從histogram可以看到除了comp_page_like外，幾乎都為右尾分佈 "
   ]
  },
  {
   "cell_type": "code",
   "execution_count": 32,
   "metadata": {},
   "outputs": [
    {
     "data": {
      "text/html": [
       "<div>\n",
       "<style scoped>\n",
       "    .dataframe tbody tr th:only-of-type {\n",
       "        vertical-align: middle;\n",
       "    }\n",
       "\n",
       "    .dataframe tbody tr th {\n",
       "        vertical-align: top;\n",
       "    }\n",
       "\n",
       "    .dataframe thead th {\n",
       "        text-align: right;\n",
       "    }\n",
       "</style>\n",
       "<table border=\"1\" class=\"dataframe\">\n",
       "  <thead>\n",
       "    <tr style=\"text-align: right;\">\n",
       "      <th></th>\n",
       "      <th>comp_page_like</th>\n",
       "      <th>Paid</th>\n",
       "      <th>life_post_reach</th>\n",
       "      <th>life_post_impression_liked</th>\n",
       "      <th>life_post_reach_liked</th>\n",
       "      <th>comment</th>\n",
       "      <th>like</th>\n",
       "      <th>share</th>\n",
       "      <th>type_link</th>\n",
       "      <th>type_status</th>\n",
       "      <th>...</th>\n",
       "      <th>hour5</th>\n",
       "      <th>hour6</th>\n",
       "      <th>hour7</th>\n",
       "      <th>hour8</th>\n",
       "      <th>hour9</th>\n",
       "      <th>hour10</th>\n",
       "      <th>hour11</th>\n",
       "      <th>hour12</th>\n",
       "      <th>hour13</th>\n",
       "      <th>hour14</th>\n",
       "    </tr>\n",
       "  </thead>\n",
       "  <tbody>\n",
       "    <tr>\n",
       "      <td>count</td>\n",
       "      <td>50.00000</td>\n",
       "      <td>50.000000</td>\n",
       "      <td>50.000000</td>\n",
       "      <td>50.000000</td>\n",
       "      <td>50.000000</td>\n",
       "      <td>50.000000</td>\n",
       "      <td>50.000000</td>\n",
       "      <td>50.000000</td>\n",
       "      <td>50.000000</td>\n",
       "      <td>50.000000</td>\n",
       "      <td>...</td>\n",
       "      <td>50.000000</td>\n",
       "      <td>50.000000</td>\n",
       "      <td>50.0</td>\n",
       "      <td>50.000000</td>\n",
       "      <td>50.000000</td>\n",
       "      <td>50.00000</td>\n",
       "      <td>50.000000</td>\n",
       "      <td>50.000000</td>\n",
       "      <td>50.000000</td>\n",
       "      <td>50.000000</td>\n",
       "    </tr>\n",
       "    <tr>\n",
       "      <td>mean</td>\n",
       "      <td>123098.70000</td>\n",
       "      <td>0.400000</td>\n",
       "      <td>17675.540000</td>\n",
       "      <td>14777.600000</td>\n",
       "      <td>7120.060000</td>\n",
       "      <td>8.500000</td>\n",
       "      <td>210.060000</td>\n",
       "      <td>29.540000</td>\n",
       "      <td>0.080000</td>\n",
       "      <td>0.120000</td>\n",
       "      <td>...</td>\n",
       "      <td>0.020000</td>\n",
       "      <td>0.040000</td>\n",
       "      <td>0.0</td>\n",
       "      <td>0.040000</td>\n",
       "      <td>0.040000</td>\n",
       "      <td>0.14000</td>\n",
       "      <td>0.080000</td>\n",
       "      <td>0.100000</td>\n",
       "      <td>0.100000</td>\n",
       "      <td>0.040000</td>\n",
       "    </tr>\n",
       "    <tr>\n",
       "      <td>std</td>\n",
       "      <td>16463.28812</td>\n",
       "      <td>0.494872</td>\n",
       "      <td>31889.687096</td>\n",
       "      <td>19024.467247</td>\n",
       "      <td>7823.016041</td>\n",
       "      <td>11.294301</td>\n",
       "      <td>249.013516</td>\n",
       "      <td>24.742107</td>\n",
       "      <td>0.274048</td>\n",
       "      <td>0.328261</td>\n",
       "      <td>...</td>\n",
       "      <td>0.141421</td>\n",
       "      <td>0.197949</td>\n",
       "      <td>0.0</td>\n",
       "      <td>0.197949</td>\n",
       "      <td>0.197949</td>\n",
       "      <td>0.35051</td>\n",
       "      <td>0.274048</td>\n",
       "      <td>0.303046</td>\n",
       "      <td>0.303046</td>\n",
       "      <td>0.197949</td>\n",
       "    </tr>\n",
       "    <tr>\n",
       "      <td>min</td>\n",
       "      <td>81370.00000</td>\n",
       "      <td>0.000000</td>\n",
       "      <td>1080.000000</td>\n",
       "      <td>1614.000000</td>\n",
       "      <td>934.000000</td>\n",
       "      <td>0.000000</td>\n",
       "      <td>0.000000</td>\n",
       "      <td>0.000000</td>\n",
       "      <td>0.000000</td>\n",
       "      <td>0.000000</td>\n",
       "      <td>...</td>\n",
       "      <td>0.000000</td>\n",
       "      <td>0.000000</td>\n",
       "      <td>0.0</td>\n",
       "      <td>0.000000</td>\n",
       "      <td>0.000000</td>\n",
       "      <td>0.00000</td>\n",
       "      <td>0.000000</td>\n",
       "      <td>0.000000</td>\n",
       "      <td>0.000000</td>\n",
       "      <td>0.000000</td>\n",
       "    </tr>\n",
       "    <tr>\n",
       "      <td>25%</td>\n",
       "      <td>111972.00000</td>\n",
       "      <td>0.000000</td>\n",
       "      <td>3765.500000</td>\n",
       "      <td>4769.750000</td>\n",
       "      <td>2666.500000</td>\n",
       "      <td>2.000000</td>\n",
       "      <td>71.250000</td>\n",
       "      <td>10.750000</td>\n",
       "      <td>0.000000</td>\n",
       "      <td>0.000000</td>\n",
       "      <td>...</td>\n",
       "      <td>0.000000</td>\n",
       "      <td>0.000000</td>\n",
       "      <td>0.0</td>\n",
       "      <td>0.000000</td>\n",
       "      <td>0.000000</td>\n",
       "      <td>0.00000</td>\n",
       "      <td>0.000000</td>\n",
       "      <td>0.000000</td>\n",
       "      <td>0.000000</td>\n",
       "      <td>0.000000</td>\n",
       "    </tr>\n",
       "    <tr>\n",
       "      <td>50%</td>\n",
       "      <td>130195.50000</td>\n",
       "      <td>0.000000</td>\n",
       "      <td>5779.000000</td>\n",
       "      <td>6625.500000</td>\n",
       "      <td>3964.000000</td>\n",
       "      <td>4.000000</td>\n",
       "      <td>143.500000</td>\n",
       "      <td>26.500000</td>\n",
       "      <td>0.000000</td>\n",
       "      <td>0.000000</td>\n",
       "      <td>...</td>\n",
       "      <td>0.000000</td>\n",
       "      <td>0.000000</td>\n",
       "      <td>0.0</td>\n",
       "      <td>0.000000</td>\n",
       "      <td>0.000000</td>\n",
       "      <td>0.00000</td>\n",
       "      <td>0.000000</td>\n",
       "      <td>0.000000</td>\n",
       "      <td>0.000000</td>\n",
       "      <td>0.000000</td>\n",
       "    </tr>\n",
       "    <tr>\n",
       "      <td>75%</td>\n",
       "      <td>135938.00000</td>\n",
       "      <td>1.000000</td>\n",
       "      <td>14584.000000</td>\n",
       "      <td>16273.750000</td>\n",
       "      <td>8357.000000</td>\n",
       "      <td>10.000000</td>\n",
       "      <td>221.250000</td>\n",
       "      <td>39.000000</td>\n",
       "      <td>0.000000</td>\n",
       "      <td>0.000000</td>\n",
       "      <td>...</td>\n",
       "      <td>0.000000</td>\n",
       "      <td>0.000000</td>\n",
       "      <td>0.0</td>\n",
       "      <td>0.000000</td>\n",
       "      <td>0.000000</td>\n",
       "      <td>0.00000</td>\n",
       "      <td>0.000000</td>\n",
       "      <td>0.000000</td>\n",
       "      <td>0.000000</td>\n",
       "      <td>0.000000</td>\n",
       "    </tr>\n",
       "    <tr>\n",
       "      <td>max</td>\n",
       "      <td>139441.00000</td>\n",
       "      <td>1.000000</td>\n",
       "      <td>158208.000000</td>\n",
       "      <td>92512.000000</td>\n",
       "      <td>39776.000000</td>\n",
       "      <td>60.000000</td>\n",
       "      <td>1155.000000</td>\n",
       "      <td>102.000000</td>\n",
       "      <td>1.000000</td>\n",
       "      <td>1.000000</td>\n",
       "      <td>...</td>\n",
       "      <td>1.000000</td>\n",
       "      <td>1.000000</td>\n",
       "      <td>0.0</td>\n",
       "      <td>1.000000</td>\n",
       "      <td>1.000000</td>\n",
       "      <td>1.00000</td>\n",
       "      <td>1.000000</td>\n",
       "      <td>1.000000</td>\n",
       "      <td>1.000000</td>\n",
       "      <td>1.000000</td>\n",
       "    </tr>\n",
       "  </tbody>\n",
       "</table>\n",
       "<p>8 rows × 43 columns</p>\n",
       "</div>"
      ],
      "text/plain": [
       "       comp_page_like       Paid  life_post_reach  life_post_impression_liked  \\\n",
       "count        50.00000  50.000000        50.000000                   50.000000   \n",
       "mean     123098.70000   0.400000     17675.540000                14777.600000   \n",
       "std       16463.28812   0.494872     31889.687096                19024.467247   \n",
       "min       81370.00000   0.000000      1080.000000                 1614.000000   \n",
       "25%      111972.00000   0.000000      3765.500000                 4769.750000   \n",
       "50%      130195.50000   0.000000      5779.000000                 6625.500000   \n",
       "75%      135938.00000   1.000000     14584.000000                16273.750000   \n",
       "max      139441.00000   1.000000    158208.000000                92512.000000   \n",
       "\n",
       "       life_post_reach_liked    comment         like       share  type_link  \\\n",
       "count              50.000000  50.000000    50.000000   50.000000  50.000000   \n",
       "mean             7120.060000   8.500000   210.060000   29.540000   0.080000   \n",
       "std              7823.016041  11.294301   249.013516   24.742107   0.274048   \n",
       "min               934.000000   0.000000     0.000000    0.000000   0.000000   \n",
       "25%              2666.500000   2.000000    71.250000   10.750000   0.000000   \n",
       "50%              3964.000000   4.000000   143.500000   26.500000   0.000000   \n",
       "75%              8357.000000  10.000000   221.250000   39.000000   0.000000   \n",
       "max             39776.000000  60.000000  1155.000000  102.000000   1.000000   \n",
       "\n",
       "       type_status  ...      hour5      hour6  hour7      hour8      hour9  \\\n",
       "count    50.000000  ...  50.000000  50.000000   50.0  50.000000  50.000000   \n",
       "mean      0.120000  ...   0.020000   0.040000    0.0   0.040000   0.040000   \n",
       "std       0.328261  ...   0.141421   0.197949    0.0   0.197949   0.197949   \n",
       "min       0.000000  ...   0.000000   0.000000    0.0   0.000000   0.000000   \n",
       "25%       0.000000  ...   0.000000   0.000000    0.0   0.000000   0.000000   \n",
       "50%       0.000000  ...   0.000000   0.000000    0.0   0.000000   0.000000   \n",
       "75%       0.000000  ...   0.000000   0.000000    0.0   0.000000   0.000000   \n",
       "max       1.000000  ...   1.000000   1.000000    0.0   1.000000   1.000000   \n",
       "\n",
       "         hour10     hour11     hour12     hour13     hour14  \n",
       "count  50.00000  50.000000  50.000000  50.000000  50.000000  \n",
       "mean    0.14000   0.080000   0.100000   0.100000   0.040000  \n",
       "std     0.35051   0.274048   0.303046   0.303046   0.197949  \n",
       "min     0.00000   0.000000   0.000000   0.000000   0.000000  \n",
       "25%     0.00000   0.000000   0.000000   0.000000   0.000000  \n",
       "50%     0.00000   0.000000   0.000000   0.000000   0.000000  \n",
       "75%     0.00000   0.000000   0.000000   0.000000   0.000000  \n",
       "max     1.00000   1.000000   1.000000   1.000000   1.000000  \n",
       "\n",
       "[8 rows x 43 columns]"
      ]
     },
     "execution_count": 32,
     "metadata": {},
     "output_type": "execute_result"
    }
   ],
   "source": [
    "test.describe()"
   ]
  },
  {
   "cell_type": "markdown",
   "metadata": {},
   "source": [
    "test set也有變異數大和右尾的情形。 "
   ]
  },
  {
   "cell_type": "markdown",
   "metadata": {},
   "source": [
    "##Q2\n",
    "Construct a prediction model using the setting of Case 1. What is the test RMSE? What are the predictions and true outcome values for the first 20 data points in the testing data?"
   ]
  },
  {
   "cell_type": "code",
   "execution_count": 39,
   "metadata": {},
   "outputs": [],
   "source": [
    "def rmse(predictions, targets):\n",
    "    return np.sqrt(((predictions - targets) ** 2).mean())"
   ]
  },
  {
   "cell_type": "code",
   "execution_count": 8,
   "metadata": {},
   "outputs": [
    {
     "name": "stdout",
     "output_type": "stream",
     "text": [
      "928.8095109332162\n"
     ]
    }
   ],
   "source": [
    "result = np.sum(trainY) / len(trainY)\n",
    "rmse1 = np.sqrt(np.sum((testy-result)**2)/len(testy))\n",
    "print(rmse1)"
   ]
  },
  {
   "cell_type": "code",
   "execution_count": 9,
   "metadata": {},
   "outputs": [
    {
     "name": "stdout",
     "output_type": "stream",
     "text": [
      "Prediction:\n",
      "810.34\n",
      "True values:\n",
      "[[1183]\n",
      " [ 189]\n",
      " [2327]\n",
      " [  76]\n",
      " [ 354]\n",
      " [ 713]\n",
      " [ 204]\n",
      " [ 288]\n",
      " [ 555]\n",
      " [ 586]\n",
      " [ 446]\n",
      " [ 884]\n",
      " [ 524]\n",
      " [ 672]\n",
      " [  23]\n",
      " [ 570]\n",
      " [1361]\n",
      " [5934]\n",
      " [2319]\n",
      " [1633]]\n"
     ]
    }
   ],
   "source": [
    "print(\"Prediction:\")\n",
    "print(result)\n",
    "print(\"True values:\")\n",
    "print(testy[0:20])"
   ]
  },
  {
   "cell_type": "markdown",
   "metadata": {},
   "source": [
    "##Q3\n",
    "Construct a prediction model using the setting of Case 2A. What is the test RMSE? What are the predictions and true outcome values for the first 20 data points in the testing data? "
   ]
  },
  {
   "cell_type": "code",
   "execution_count": 42,
   "metadata": {},
   "outputs": [],
   "source": [
    "lm = LinearRegression()\n",
    "lm.fit(trainX, trainY)\n",
    "result = lm.predict(test)"
   ]
  },
  {
   "cell_type": "markdown",
   "metadata": {},
   "source": [
    "###RMSE:"
   ]
  },
  {
   "cell_type": "code",
   "execution_count": 71,
   "metadata": {},
   "outputs": [
    {
     "name": "stdout",
     "output_type": "stream",
     "text": [
      "692.2891271362014\n",
      "692.2891271362014\n",
      "479264.23555100366\n",
      "(50,)\n",
      "[1183  189 2327   76  354  713  204  288  555  586  446  884  524  672\n",
      "   23  570 1361 5934 2319 1633    9  705  991  374  944  284  460  642\n",
      "  984 1877  333  574   86  483 1288  727  632  783   37  306 1016  406\n",
      "  381 1106  503 2531  620  482 1103  522]\n"
     ]
    }
   ],
   "source": [
    "testy = np.reshape(testy, (50,))\n",
    "rmse1 = np.sqrt(np.sum((testy-result)**2)/len(testy-result))\n",
    "rmse2 = rmse(result, testy)\n",
    "print(rmse1)\n",
    "print(rmse(result, testy))\n",
    "\n",
    "print(((testy-result)**2).sum()/len(testy-result))\n",
    "print(((testy - result) ** 2).shape)\n",
    "print(np.reshape(testy, (50,)))"
   ]
  },
  {
   "cell_type": "code",
   "execution_count": 14,
   "metadata": {},
   "outputs": [
    {
     "name": "stdout",
     "output_type": "stream",
     "text": [
      "Predictions:\n",
      "[ 781.57991507  315.92043112 2279.0848524  -136.34286373  302.35624062\n",
      "  462.42402368  321.67770824  504.52244768  505.89547104  488.36700578\n",
      "  392.61423519  388.9184671   804.87527509  634.32364432  176.31765618\n",
      "  645.7291381  1983.53858871 3144.39710045 4060.61071218 4288.223081  ]\n",
      "True values:\n",
      "[[1183]\n",
      " [ 189]\n",
      " [2327]\n",
      " [  76]\n",
      " [ 354]\n",
      " [ 713]\n",
      " [ 204]\n",
      " [ 288]\n",
      " [ 555]\n",
      " [ 586]\n",
      " [ 446]\n",
      " [ 884]\n",
      " [ 524]\n",
      " [ 672]\n",
      " [  23]\n",
      " [ 570]\n",
      " [1361]\n",
      " [5934]\n",
      " [2319]\n",
      " [1633]]\n"
     ]
    }
   ],
   "source": [
    "print(\"Predictions:\")\n",
    "print(result[0:20])\n",
    "print(\"True values:\")\n",
    "print(testy[0:20])"
   ]
  },
  {
   "cell_type": "markdown",
   "metadata": {},
   "source": [
    "##Q4\n",
    "Construct a prediction model using the setting of Case 2B. What is the test RMSE? What is the predictions and the true outcome values for the first 20 data points in the testing data? "
   ]
  },
  {
   "cell_type": "code",
   "execution_count": 33,
   "metadata": {},
   "outputs": [],
   "source": [
    "trainY_demean = trainY - np.mean(trainY)\n",
    "\n",
    "lm = LinearRegression()\n",
    "lm.fit(trainX, trainY_demean)\n",
    "result = lm.predict(test) + np.mean(trainY)"
   ]
  },
  {
   "cell_type": "markdown",
   "metadata": {},
   "source": [
    "###RMSE:"
   ]
  },
  {
   "cell_type": "code",
   "execution_count": 36,
   "metadata": {},
   "outputs": [
    {
     "name": "stdout",
     "output_type": "stream",
     "text": [
      "1300.8774643731535\n"
     ]
    }
   ],
   "source": [
    "rmse3 = np.sqrt(((result - testy) ** 2).mean())\n",
    "print(rmse3)"
   ]
  },
  {
   "cell_type": "markdown",
   "metadata": {},
   "source": [
    "RMSE較沒de-mean時降低了一點點可忽略的值"
   ]
  },
  {
   "cell_type": "code",
   "execution_count": 191,
   "metadata": {},
   "outputs": [
    {
     "name": "stdout",
     "output_type": "stream",
     "text": [
      "Predictions:\n",
      "[ 781.57991507  315.92043112 2279.0848524  -136.34286373  302.35624062\n",
      "  462.42402368  321.67770824  504.52244768  505.89547104  488.36700578\n",
      "  392.61423519  388.9184671   804.87527509  634.32364432  176.31765618\n",
      "  645.7291381  1983.53858871 3144.39710045 4060.61071217 4288.223081  ]\n",
      "True values:\n",
      "[[1183]\n",
      " [ 189]\n",
      " [2327]\n",
      " [  76]\n",
      " [ 354]\n",
      " [ 713]\n",
      " [ 204]\n",
      " [ 288]\n",
      " [ 555]\n",
      " [ 586]\n",
      " [ 446]\n",
      " [ 884]\n",
      " [ 524]\n",
      " [ 672]\n",
      " [  23]\n",
      " [ 570]\n",
      " [1361]\n",
      " [5934]\n",
      " [2319]\n",
      " [1633]]\n"
     ]
    }
   ],
   "source": [
    "print(\"Predictions:\")\n",
    "print(result[0:20])\n",
    "print(\"True values:\")\n",
    "print(testy[0:20])"
   ]
  },
  {
   "cell_type": "markdown",
   "metadata": {},
   "source": [
    "##Q5\n",
    "Construct a prediction model using the setting of Case 2C. What is the test RMSE? What is the predictions and the true outcome values for the first 20 data points in the testing data?"
   ]
  },
  {
   "cell_type": "code",
   "execution_count": 192,
   "metadata": {},
   "outputs": [],
   "source": [
    "trainX_std = (trainX - np.mean(trainX)) / np.std(trainX)\n",
    "test_std = (test - np.mean(trainX)) / np.std(trainX)"
   ]
  },
  {
   "cell_type": "code",
   "execution_count": 193,
   "metadata": {},
   "outputs": [],
   "source": [
    "lm = LinearRegression()\n",
    "lm.fit(trainX_std, trainY_demean)\n",
    "result = lm.predict(test_std) + np.mean(trainY)"
   ]
  },
  {
   "cell_type": "markdown",
   "metadata": {},
   "source": [
    "###RMSE:"
   ]
  },
  {
   "cell_type": "code",
   "execution_count": 194,
   "metadata": {},
   "outputs": [
    {
     "name": "stdout",
     "output_type": "stream",
     "text": [
      "9198.59276551848\n"
     ]
    }
   ],
   "source": [
    "rmse4 = np.sqrt(np.sum((testy-result)**2)/len(testy))\n",
    "print(rmse4)"
   ]
  },
  {
   "cell_type": "code",
   "execution_count": null,
   "metadata": {},
   "outputs": [],
   "source": [
    "RMSE相差不大，可忽略區別"
   ]
  },
  {
   "cell_type": "code",
   "execution_count": 183,
   "metadata": {},
   "outputs": [
    {
     "name": "stdout",
     "output_type": "stream",
     "text": [
      "Predictions:\n",
      "[ 781.57991507  315.92043112 2279.0848524  -136.34286373  302.35624062\n",
      "  462.42402368  321.67770824  504.52244767  505.89547104  488.36700578\n",
      "  392.61423519  388.9184671   804.87527509  634.32364432  176.31765618\n",
      "  645.72913809 1983.53858871 3144.39710045 4060.61071219 4288.223081  ]\n",
      "True values:\n",
      "[[1183]\n",
      " [ 189]\n",
      " [2327]\n",
      " [  76]\n",
      " [ 354]\n",
      " [ 713]\n",
      " [ 204]\n",
      " [ 288]\n",
      " [ 555]\n",
      " [ 586]\n",
      " [ 446]\n",
      " [ 884]\n",
      " [ 524]\n",
      " [ 672]\n",
      " [  23]\n",
      " [ 570]\n",
      " [1361]\n",
      " [5934]\n",
      " [2319]\n",
      " [1633]]\n"
     ]
    }
   ],
   "source": [
    "print(\"Predictions:\")\n",
    "print(result[0:20])\n",
    "print(\"True values:\")\n",
    "print(testy[0:20])"
   ]
  },
  {
   "cell_type": "markdown",
   "metadata": {},
   "source": [
    "##Q6\n",
    "Construct a prediction model using the setting of Case 3A. You should consider at least the following values for the regularization coefficient ( 𝛼 ): 0.01, 0.1, 1, 5, 10, 20, 50, 100, 500, 1000. Plot the test RMSE with respect to  𝛼 . What is the best test RMSE? What is the predictions and the true outcome values for the first 20 data points in the testing data using the best  𝛼 ? "
   ]
  },
  {
   "cell_type": "code",
   "execution_count": 37,
   "metadata": {},
   "outputs": [
    {
     "data": {
      "image/png": "[encoded data removed]",
      "text/plain": [
       "<Figure size 432x288 with 1 Axes>"
      ]
     },
     "metadata": {
      "needs_background": "light"
     },
     "output_type": "display_data"
    }
   ],
   "source": [
    "alphas = [0.01, 0.1, 1, 5, 10, 20, 50, 100, 500, 1000]\n",
    "rmses = []\n",
    "for a in alphas:\n",
    "    rm = Ridge(alpha = a)\n",
    "    rm.fit(trainX, trainY)\n",
    "    result = rm.predict(test)\n",
    "    rmse = np.sqrt(((result - testy) ** 2).mean())\n",
    "    rmses.append(rmse)\n",
    "\n",
    "plt.figure()\n",
    "plt.plot(alphas,rmses)\n",
    "plt.xlabel(\"alpha\")\n",
    "plt.ylabel(\"RMSE\")\n",
    "plt.show()"
   ]
  },
  {
   "cell_type": "markdown",
   "metadata": {},
   "source": [
    "###RMSE:"
   ]
  },
  {
   "cell_type": "code",
   "execution_count": 38,
   "metadata": {},
   "outputs": [
    {
     "data": {
      "text/plain": [
       "[1300.2907630940015,\n",
       " 1298.0168411372706,\n",
       " 1286.827231024771,\n",
       " 1248.113864794346,\n",
       " 1217.2358317954508,\n",
       " 1181.8268024028894,\n",
       " 1140.2913636676356,\n",
       " 1118.939012313636,\n",
       " 1098.2725426784114,\n",
       " 1095.7158358613274]"
      ]
     },
     "execution_count": 38,
     "metadata": {},
     "output_type": "execute_result"
    }
   ],
   "source": [
    "rmses"
   ]
  },
  {
   "cell_type": "markdown",
   "metadata": {},
   "source": [
    "RMSE隨著alpha值成負相關。 "
   ]
  },
  {
   "cell_type": "code",
   "execution_count": 209,
   "metadata": {},
   "outputs": [
    {
     "name": "stdout",
     "output_type": "stream",
     "text": [
      "Predictions:\n",
      "[1451.97059843  313.54522225 1188.95113326  287.33169687  538.24828516\n",
      "  880.44626656  683.26801912  381.96503031  678.78538039  744.81355457\n",
      "  515.79278104  614.32808654  867.5779907   725.27582617  563.7024028\n",
      "  558.17410459  775.03613105 1624.46089441 3204.12845043 2783.13682155]\n",
      "True values:\n",
      "[[1183]\n",
      " [ 189]\n",
      " [2327]\n",
      " [  76]\n",
      " [ 354]\n",
      " [ 713]\n",
      " [ 204]\n",
      " [ 288]\n",
      " [ 555]\n",
      " [ 586]\n",
      " [ 446]\n",
      " [ 884]\n",
      " [ 524]\n",
      " [ 672]\n",
      " [  23]\n",
      " [ 570]\n",
      " [1361]\n",
      " [5934]\n",
      " [2319]\n",
      " [1633]]\n"
     ]
    }
   ],
   "source": [
    "print(\"Predictions:\")\n",
    "print(result[0:20])\n",
    "print(\"True values:\")\n",
    "print(testy[0:20])"
   ]
  },
  {
   "cell_type": "markdown",
   "metadata": {},
   "source": [
    "##Q7\n",
    "Construct a prediction model using the setting of Case 3B. You should consider at least the following values for the regularization coefficient ( 𝛼 ): 0.01, 0.1, 1, 5, 10, 20, 50, 100, 500, 1000. Plot the test RMSE with respect to  𝛼 . What is the best test RMSE? What is the predictions and the true outcome values for the first 20 data points in the testing data using the best  𝛼 ? "
   ]
  },
  {
   "cell_type": "code",
   "execution_count": 256,
   "metadata": {},
   "outputs": [],
   "source": [
    "trainX_std2 = pd.concat([trainX_std.iloc[:,0:1],trainX.iloc[:,1] , trainX_std.iloc[:,2:8], trainX.iloc[:,8:44]], axis = 1) \n",
    "test_std2 = pd.concat([test_std.iloc[:,0:1],test.iloc[:,1] , test_std.iloc[:,2:8], test.iloc[:,8:44]], axis = 1) "
   ]
  },
  {
   "cell_type": "code",
   "execution_count": 258,
   "metadata": {},
   "outputs": [
    {
     "data": {
      "image/png": "[encoded data removed]",
      "text/plain": [
       "<Figure size 432x288 with 1 Axes>"
      ]
     },
     "metadata": {
      "needs_background": "light"
     },
     "output_type": "display_data"
    }
   ],
   "source": [
    "alphas = [0.01, 0.1, 1, 5, 10, 20, 50, 100, 500, 1000]\n",
    "rmses = []\n",
    "for a in alphas:\n",
    "    rm = Ridge(alpha = a)\n",
    "    rm.fit(trainX_std2, trainY_demean)\n",
    "    result = rm.predict(test_std2) + np.mean(trainY)\n",
    "    rmse = np.sqrt(np.sum((testy-result)**2)/len(testy))\n",
    "    rmses.append(rmse)\n",
    "\n",
    "plt.figure()\n",
    "plt.plot(alphas,rmses)\n",
    "plt.xlabel(\"alpha\")\n",
    "plt.ylabel(\"RMSE\")\n",
    "plt.show()"
   ]
  },
  {
   "cell_type": "markdown",
   "metadata": {},
   "source": [
    "###RMSE:"
   ]
  },
  {
   "cell_type": "code",
   "execution_count": 259,
   "metadata": {},
   "outputs": [
    {
     "data": {
      "text/plain": [
       "[9194.232364997997,\n",
       " 9177.003649824106,\n",
       " 9085.942745068076,\n",
       " 8770.605797000078,\n",
       " 8515.826149829369,\n",
       " 8213.625213100982,\n",
       " 7817.78827204799,\n",
       " 7551.921415336162,\n",
       " 7012.387811920731,\n",
       " 6822.292415097878]"
      ]
     },
     "execution_count": 259,
     "metadata": {},
     "output_type": "execute_result"
    }
   ],
   "source": [
    "rmses"
   ]
  },
  {
   "cell_type": "markdown",
   "metadata": {},
   "source": [
    "RMSE一樣隨著alpha值變大而變小，而且比沒做標準化及de-mean更好。 "
   ]
  },
  {
   "cell_type": "code",
   "execution_count": 260,
   "metadata": {},
   "outputs": [
    {
     "name": "stdout",
     "output_type": "stream",
     "text": [
      "Predictions:\n",
      "[1187.13848209  584.37027272  978.97174173  565.79245002  701.39980669\n",
      "  833.20060582  718.73594372  639.71053078  743.29122681  777.44106119\n",
      "  716.10085136  697.6712398   800.97507389  752.91595525  671.35418989\n",
      "  692.69812625  805.56710285 1406.08035486 1732.62194118 1501.79101826]\n",
      "True values:\n",
      "[[1183]\n",
      " [ 189]\n",
      " [2327]\n",
      " [  76]\n",
      " [ 354]\n",
      " [ 713]\n",
      " [ 204]\n",
      " [ 288]\n",
      " [ 555]\n",
      " [ 586]\n",
      " [ 446]\n",
      " [ 884]\n",
      " [ 524]\n",
      " [ 672]\n",
      " [  23]\n",
      " [ 570]\n",
      " [1361]\n",
      " [5934]\n",
      " [2319]\n",
      " [1633]]\n"
     ]
    }
   ],
   "source": [
    "print(\"Predictions:\")\n",
    "print(result[0:20])\n",
    "print(\"True values:\")\n",
    "print(testy[0:20])"
   ]
  },
  {
   "cell_type": "markdown",
   "metadata": {},
   "source": [
    "###Q8\n",
    "Construct a prediction model using the setting of Case 3C. You should consider at least the following values for the regularization coefficient ( 𝛼 ): 0.01, 0.1, 1, 5, 10, 20, 50, 100, 500, 1000. Plot the test RMSE with respect to  𝛼 . What is the best test RMSE? What is the predictions and the true outcome values for the first 20 data points in the testing data using the best  𝛼 ? "
   ]
  },
  {
   "cell_type": "code",
   "execution_count": 261,
   "metadata": {},
   "outputs": [
    {
     "data": {
      "image/png": "[encoded data removed]",
      "text/plain": [
       "<Figure size 432x288 with 1 Axes>"
      ]
     },
     "metadata": {
      "needs_background": "light"
     },
     "output_type": "display_data"
    }
   ],
   "source": [
    "alphas = [0.01, 0.1, 1, 5, 10, 20, 50, 100, 500, 1000]\n",
    "rmses = []\n",
    "for a in alphas:\n",
    "    rm = Ridge(alpha = a)\n",
    "    rm.fit(trainX, trainY_demean)\n",
    "    result = rm.predict(test) + np.mean(trainY)\n",
    "    rmse = np.sqrt(np.sum((testy-result)**2)/len(testy))\n",
    "    rmses.append(rmse)\n",
    "\n",
    "plt.figure()\n",
    "plt.plot(alphas,rmses)\n",
    "plt.xlabel(\"alpha\")\n",
    "plt.ylabel(\"RMSE\")\n",
    "plt.show()"
   ]
  },
  {
   "cell_type": "markdown",
   "metadata": {},
   "source": [
    "###RMSE: "
   ]
  },
  {
   "cell_type": "code",
   "execution_count": 262,
   "metadata": {},
   "outputs": [
    {
     "data": {
      "text/plain": [
       "[9194.44416097999,\n",
       " 9178.365104625054,\n",
       " 9099.242612731236,\n",
       " 8825.497774890317,\n",
       " 8607.15710965811,\n",
       " 8356.77746167097,\n",
       " 8063.077557778406,\n",
       " 7912.093633411499,\n",
       " 7765.959625188964,\n",
       " 7747.880977910306]"
      ]
     },
     "execution_count": 262,
     "metadata": {},
     "output_type": "execute_result"
    }
   ],
   "source": [
    "rmses"
   ]
  },
  {
   "cell_type": "markdown",
   "metadata": {},
   "source": [
    "與Q6相差無幾，顯示de-mean效果不大，但標準化效果則明顯。 "
   ]
  },
  {
   "cell_type": "code",
   "execution_count": 263,
   "metadata": {},
   "outputs": [
    {
     "name": "stdout",
     "output_type": "stream",
     "text": [
      "Predictions:\n",
      "[1451.97059843  313.54522225 1188.95113326  287.33169687  538.24828516\n",
      "  880.44626656  683.26801912  381.96503031  678.78538039  744.81355457\n",
      "  515.79278104  614.32808654  867.5779907   725.27582617  563.7024028\n",
      "  558.17410459  775.03613105 1624.46089441 3204.12845043 2783.13682155]\n",
      "True values:\n",
      "[[1183]\n",
      " [ 189]\n",
      " [2327]\n",
      " [  76]\n",
      " [ 354]\n",
      " [ 713]\n",
      " [ 204]\n",
      " [ 288]\n",
      " [ 555]\n",
      " [ 586]\n",
      " [ 446]\n",
      " [ 884]\n",
      " [ 524]\n",
      " [ 672]\n",
      " [  23]\n",
      " [ 570]\n",
      " [1361]\n",
      " [5934]\n",
      " [2319]\n",
      " [1633]]\n"
     ]
    }
   ],
   "source": [
    "print(\"Predictions:\")\n",
    "print(result[0:20])\n",
    "print(\"True values:\")\n",
    "print(testy[0:20])"
   ]
  },
  {
   "cell_type": "markdown",
   "metadata": {},
   "source": [
    "###Q9\n",
    "Construct a prediction model using the setting of Case 3D. You should consider at least the following values for the regularization coefficient ( 𝛼 ): 0.01, 0.1, 1, 5, 10, 20, 50, 100, 500, 1000. Plot the test RMSE with respect to  𝛼 . What is the best test RMSE? What is the predictions and the true outcome values for the first 20 data points in the testing data using the best  𝛼 ? "
   ]
  },
  {
   "cell_type": "code",
   "execution_count": 264,
   "metadata": {},
   "outputs": [
    {
     "data": {
      "image/png": "[encoded data removed]",
      "text/plain": [
       "<Figure size 432x288 with 1 Axes>"
      ]
     },
     "metadata": {
      "needs_background": "light"
     },
     "output_type": "display_data"
    }
   ],
   "source": [
    "alphas = [0.01, 0.1, 1, 5, 10, 20, 50, 100, 500, 1000]\n",
    "rmses = []\n",
    "for a in alphas:\n",
    "    rm = Ridge(alpha = a)\n",
    "    rm.fit(trainX_std, trainY_demean)\n",
    "    result = rm.predict(test_std) + np.mean(trainY)\n",
    "    rmse = np.sqrt(np.sum((testy-result)**2)/len(testy))\n",
    "    rmses.append(rmse)\n",
    "\n",
    "plt.figure()\n",
    "plt.plot(alphas,rmses)\n",
    "plt.xlabel(\"alpha\")\n",
    "plt.ylabel(\"RMSE\")\n",
    "plt.show()"
   ]
  },
  {
   "cell_type": "markdown",
   "metadata": {},
   "source": [
    "###RMSE:"
   ]
  },
  {
   "cell_type": "code",
   "execution_count": 265,
   "metadata": {},
   "outputs": [
    {
     "data": {
      "text/plain": [
       "[9198.006958225247,\n",
       " 9193.286249700563,\n",
       " 9166.683585703593,\n",
       " 9090.114775162776,\n",
       " 9003.853490683307,\n",
       " 8853.892176363386,\n",
       " 8523.621008626926,\n",
       " 8173.803391372798,\n",
       " 7245.925763371817,\n",
       " 6933.894945258497]"
      ]
     },
     "execution_count": 265,
     "metadata": {},
     "output_type": "execute_result"
    }
   ],
   "source": [
    "rmses"
   ]
  },
  {
   "cell_type": "markdown",
   "metadata": {},
   "source": [
    "效果沒有de-mean前好"
   ]
  },
  {
   "cell_type": "code",
   "execution_count": 266,
   "metadata": {},
   "outputs": [
    {
     "name": "stdout",
     "output_type": "stream",
     "text": [
      "Predictions:\n",
      "[1053.0292433   478.19671262 1337.34654924  421.46083729  738.60575958\n",
      "  766.30387379  589.84615758  679.21841099  657.51391406  726.70819608\n",
      "  695.27081886  651.84952048  802.72357194  696.12019256  586.45466852\n",
      "  740.98488133 1161.71897625 1781.42087403 1838.77732441 1647.76719224]\n",
      "True values:\n",
      "[[1183]\n",
      " [ 189]\n",
      " [2327]\n",
      " [  76]\n",
      " [ 354]\n",
      " [ 713]\n",
      " [ 204]\n",
      " [ 288]\n",
      " [ 555]\n",
      " [ 586]\n",
      " [ 446]\n",
      " [ 884]\n",
      " [ 524]\n",
      " [ 672]\n",
      " [  23]\n",
      " [ 570]\n",
      " [1361]\n",
      " [5934]\n",
      " [2319]\n",
      " [1633]]\n"
     ]
    }
   ],
   "source": [
    "print(\"Predictions:\")\n",
    "print(result[0:20])\n",
    "print(\"True values:\")\n",
    "print(testy[0:20])"
   ]
  },
  {
   "cell_type": "markdown",
   "metadata": {},
   "source": [
    "###Q10\n",
    "Construct a prediction model using the setting of Case 4. You should consider at least the following values for the regularization coefficient ( 𝛼 ): 0.01, 0.1, 1, 5, 10, 20, 50, 100, 500, 1000. Plot the test RMSE with respect to  𝛼 . What is the best test RMSE? What is the predictions and the true outcome values for the first 20 data points in the testing data using the best  𝛼 ? "
   ]
  },
  {
   "cell_type": "code",
   "execution_count": 281,
   "metadata": {},
   "outputs": [
    {
     "name": "stderr",
     "output_type": "stream",
     "text": [
      "/opt/anaconda3/lib/python3.7/site-packages/sklearn/linear_model/coordinate_descent.py:475: ConvergenceWarning: Objective did not converge. You might want to increase the number of iterations. Duality gap: 47975917.14864497, tolerance: 32249.892376\n",
      "  positive)\n",
      "/opt/anaconda3/lib/python3.7/site-packages/sklearn/linear_model/coordinate_descent.py:475: ConvergenceWarning: Objective did not converge. You might want to increase the number of iterations. Duality gap: 4456630.675997615, tolerance: 32249.892376\n",
      "  positive)\n"
     ]
    },
    {
     "data": {
      "image/png": "[encoded data removed]",
      "text/plain": [
       "<Figure size 432x288 with 1 Axes>"
      ]
     },
     "metadata": {
      "needs_background": "light"
     },
     "output_type": "display_data"
    }
   ],
   "source": [
    "alphas = [0.01, 0.1, 1, 5, 10, 20, 50, 100, 500, 1000]\n",
    "rmses = []\n",
    "for a in alphas:\n",
    "    lasso = Lasso(alpha = a)\n",
    "    lasso.fit(trainX_std2, trainY_demean)\n",
    "    result = lasso.predict(test_std2) + np.mean(trainY)\n",
    "    rmse = np.sqrt(np.sum((testy-result)**2)/len(testy))\n",
    "    rmses.append(rmse)\n",
    "\n",
    "plt.figure()\n",
    "plt.plot(alphas,rmses)\n",
    "plt.xlabel(\"alpha\")\n",
    "plt.ylabel(\"RMSE\")\n",
    "plt.show()"
   ]
  },
  {
   "cell_type": "markdown",
   "metadata": {},
   "source": [
    "###RMSE:"
   ]
  },
  {
   "cell_type": "code",
   "execution_count": 282,
   "metadata": {},
   "outputs": [
    {
     "data": {
      "text/plain": [
       "[9197.184279335657,\n",
       " 9188.287903051742,\n",
       " 9111.748458263495,\n",
       " 8837.839840067312,\n",
       " 8550.654252061193,\n",
       " 8208.7692015008,\n",
       " 7710.701124085799,\n",
       " 7229.483398632608,\n",
       " 6567.675036114378,\n",
       " 6567.675036114378]"
      ]
     },
     "execution_count": 282,
     "metadata": {},
     "output_type": "execute_result"
    }
   ],
   "source": [
    "rmses"
   ]
  },
  {
   "cell_type": "markdown",
   "metadata": {},
   "source": [
    "RMSE一樣隨著alpha上升而下降，且最優者優於Ridge regression"
   ]
  },
  {
   "cell_type": "code",
   "execution_count": 283,
   "metadata": {},
   "outputs": [
    {
     "name": "stdout",
     "output_type": "stream",
     "text": [
      "Predictions:\n",
      "[810.34 810.34 810.34 810.34 810.34 810.34 810.34 810.34 810.34 810.34\n",
      " 810.34 810.34 810.34 810.34 810.34 810.34 810.34 810.34 810.34 810.34]\n",
      "True values:\n",
      "[[1183]\n",
      " [ 189]\n",
      " [2327]\n",
      " [  76]\n",
      " [ 354]\n",
      " [ 713]\n",
      " [ 204]\n",
      " [ 288]\n",
      " [ 555]\n",
      " [ 586]\n",
      " [ 446]\n",
      " [ 884]\n",
      " [ 524]\n",
      " [ 672]\n",
      " [  23]\n",
      " [ 570]\n",
      " [1361]\n",
      " [5934]\n",
      " [2319]\n",
      " [1633]]\n"
     ]
    }
   ],
   "source": [
    "print(\"Predictions:\")\n",
    "print(result[0:20])\n",
    "print(\"True values:\")\n",
    "print(testy[0:20])"
   ]
  },
  {
   "cell_type": "markdown",
   "metadata": {},
   "source": [
    "##Q11\n",
    "Summarize the best RMSE of all cases and discuss your findings. How should we preprocess the features?  \n",
    "RMSE分別為： "
   ]
  },
  {
   "cell_type": "code",
   "execution_count": 300,
   "metadata": {},
   "outputs": [
    {
     "name": "stdout",
     "output_type": "stream",
     "text": [
      "928.8095109332162\n",
      "9198.592765511561\n",
      "9198.592765510182\n",
      "9198.59276551848\n",
      "[7747.880977910307, 6822.292415097878, 7747.880977910306, 6933.894945258497, 6567.675036114378]\n"
     ]
    }
   ],
   "source": [
    "print(rmse1)\n",
    "print(rmse2)\n",
    "print(rmse3)\n",
    "print(rmse4)\n",
    "print([7747.880977910307, 6822.292415097878, 7747.880977910306, 6933.894945258497, 6567.675036114378])"
   ]
  },
  {
   "cell_type": "markdown",
   "metadata": {},
   "source": [
    "發現這組資料似乎平均數是最適合描述的方式，ymean和lasso在很大alpha值的情況下預測的結果非常接近，RMSE也較低。  \n",
    "在這份資料上的表現，ymean > lasso > ridge > ols \n",
    "對於ols而言，preprocess似乎影響不大，而對於ridge而言，有沒有de-mean影響不大，但標準化影響則明顯，如果能排除binary variable，只對continue variable做的話效果更好。 "
   ]
  }
 ],
 "metadata": {
  "kernelspec": {
   "display_name": "Python 3",
   "language": "python",
   "name": "python3"
  },
  "language_info": {
   "codemirror_mode": {
    "name": "ipython",
    "version": 3
   },
   "file_extension": ".py",
   "mimetype": "text/x-python",
   "name": "python",
   "nbconvert_exporter": "python",
   "pygments_lexer": "ipython3",
   "version": "3.7.7"
  }
 },
 "nbformat": 4,
 "nbformat_minor": 4
}
